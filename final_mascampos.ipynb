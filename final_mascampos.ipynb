{
 "cells": [
  {
   "cell_type": "code",
   "execution_count": 87,
   "metadata": {
    "collapsed": true
   },
   "outputs": [],
   "source": [
    "# import modules\n",
    "import ipywidgets as widgets\n",
    "from IPython.display import display\n",
    "from __future__ import print_function\n",
    "from ipywidgets import interact, interactive, fixed, interact_manual\n",
    "from ipyleaflet import (Map, Marker)\n",
    "import pandas as pd\n",
    "import statsmodels.formula.api as smf\n",
    "from sklearn.ensemble import RandomForestRegressor\n",
    "import numpy as np\n",
    "import pylab as pl\n",
    "import operator"
   ]
  },
  {
   "cell_type": "code",
   "execution_count": 88,
   "metadata": {
    "collapsed": true
   },
   "outputs": [],
   "source": [
    "# load data base\n",
    "poa_db = pd.read_csv('https://raw.githubusercontent.com/MarcoSCampos/testdata/master/poa_database.csv')\n",
    "poa_nbh = pd.read_csv('https://raw.githubusercontent.com/MarcoSCampos/testdata/master/poa_nbh.csv')"
   ]
  },
  {
   "cell_type": "code",
   "execution_count": 89,
   "metadata": {},
   "outputs": [],
   "source": [
    "#tiding the data\n",
    "poa_db.rename(columns={'Bairro':'nbh','Area':'area', 'Valor':'value', 'Dormitorios':'rooms', 'Vagas':'parking'}, inplace=True)\n",
    "poa_nbh.rename(columns={'bairro':'nbh'}, inplace=True)\n",
    "\n",
    "#LabelEncoder\n",
    "poa_nbh.insert(0, 'nbh_id', range(0, len(poa_nbh)))\n",
    "\n",
    "# Merge with right join\n",
    "poa_db2 = pd.merge(poa_nbh, poa_db, on='nbh', how='right')\n",
    "poa_db2.head()\n",
    "poa_db2['nbh2']=pd.Series(poa_db2.nbh, index=poa_db2.index).str.replace('_',' ')\n",
    "poa_nbh['nbh2']=pd.Series(poa_nbh.nbh, index=poa_nbh.index).str.replace('_',' ')\n",
    "\n",
    "# Generate a dict and sort\n",
    "mydict=dict(zip(poa_nbh.nbh2,poa_nbh.nbh_id))\n",
    "mydict=sorted(mydict.items(),key=operator.itemgetter(1))\n",
    "\n",
    "# Do lm and rf model\n",
    "lm=smf.ols(formula='value ~ area + rooms + parking + nbh', data=poa_db2).fit()\n",
    "rf = RandomForestRegressor(n_estimators=150);\n",
    "rf.fit(poa_db2[cols], poa_db2.value);\n",
    "\n"
   ]
  },
  {
   "cell_type": "code",
   "execution_count": 90,
   "metadata": {},
   "outputs": [],
   "source": [
    "w1 = widgets.IntSlider(description='rooms', min=1, max=4,step=1, value=2)\n",
    "w2 = widgets.IntSlider(description='garage', min=0, max=2,step=1, value=1)\n",
    "w3 = widgets.IntSlider(description='area',min=10, max=200,step=1, value=80)                       \n",
    "w4=widgets.RadioButtons(description='Prediction:', options=['linear regression','random forest'], value='linear regression', disabled=False)\n",
    "w5 = widgets.Dropdown(options=mydict,value=12,description='Neighborhood:',)\n",
    "a=[-30.028591  ,-51.228060]\n",
    "w6=Map(center=a, zoom=15)\n",
    "l=[]\n",
    "l.append(w1.value)# l[0] rooms 2\n",
    "l.append(w2.value)# l[1] garage 1\n",
    "l.append(w3.value)# l[2] area 80\n",
    "l.append(w5.value)# l[3] neighborhood 12=\"Centro\""
   ]
  },
  {
   "cell_type": "code",
   "execution_count": 91,
   "metadata": {},
   "outputs": [
    {
     "name": "stdout",
     "output_type": "stream",
     "text": [
      "428951.865556\n"
     ]
    }
   ],
   "source": [
    "# modeling\n",
    "if w4.value is 'linear regression':\n",
    " #Linear modeling\n",
    " new={'area':[l[2]],'rooms':[l[0]],'parking':[l[1]], 'nbh':['Centro']}\n",
    " z=lm.predict(new)[0]\n",
    " print (z)\n",
    "else:\n",
    " #Random forest modeling   \n",
    " new1=pd.DataFrame({'area':[l[2]],'rooms':[l[0]],'parking':[l[1]], 'nbh_id':[l[3]]})\n",
    " cols = ['area', 'rooms', 'parking','nbh_id']\n",
    " z=rf.predict(new1[cols])[0]\n",
    " print (z)    "
   ]
  },
  {
   "cell_type": "code",
   "execution_count": 93,
   "metadata": {},
   "outputs": [
    {
     "data": {
      "application/vnd.jupyter.widget-view+json": {
       "model_id": "0f290a0a3ecc446eaf878dc5f015a81e"
      }
     },
     "metadata": {},
     "output_type": "display_data"
    },
    {
     "data": {
      "application/vnd.jupyter.widget-view+json": {
       "model_id": "93d82edc910d4354b06982065a64ef3e"
      }
     },
     "metadata": {},
     "output_type": "display_data"
    },
    {
     "data": {
      "application/vnd.jupyter.widget-view+json": {
       "model_id": "40fe319b4cde43f889ca6e3d64990c40"
      }
     },
     "metadata": {},
     "output_type": "display_data"
    },
    {
     "data": {
      "application/vnd.jupyter.widget-view+json": {
       "model_id": "c03e160326254272a6e1bf4853e54353"
      }
     },
     "metadata": {},
     "output_type": "display_data"
    },
    {
     "data": {
      "application/vnd.jupyter.widget-view+json": {
       "model_id": "18cb4fc140fe409fb01928d565a7ec43"
      }
     },
     "metadata": {},
     "output_type": "display_data"
    },
    {
     "data": {
      "application/vnd.jupyter.widget-view+json": {
       "model_id": "34c3add52cd9467b865d28aac54a9f6d"
      }
     },
     "metadata": {},
     "output_type": "display_data"
    }
   ],
   "source": [
    "def place(c,d):\n",
    "    e=d[['lat','lng']][c:c+1]\n",
    "    e=list(e.values.flatten())\n",
    "    return (e)\n",
    "\n",
    "#a=place(w5.value,poa_nbh)\n",
    "\n",
    "w6=Map(center=place(w5.value,poa_nbh), zoom=15)\n",
    "mark=Marker(location=w6.center,title='Property value \\n R$ %.2f'%(z))\n",
    "mark.visible\n",
    "w6 += mark\n",
    "\n",
    "#w6.interact(zoom=(5,15,15))\n",
    "#i=interact()\n",
    "\n",
    "display (w1,w2,w3,w4,w5,w6)\n"
   ]
  }
 ],
 "metadata": {
  "kernelspec": {
   "display_name": "Python [conda root]",
   "language": "python",
   "name": "conda-root-py"
  },
  "language_info": {
   "codemirror_mode": {
    "name": "ipython",
    "version": 2
   },
   "file_extension": ".py",
   "mimetype": "text/x-python",
   "name": "python",
   "nbconvert_exporter": "python",
   "pygments_lexer": "ipython2",
   "version": "2.7.12"
  }
 },
 "nbformat": 4,
 "nbformat_minor": 1
}
