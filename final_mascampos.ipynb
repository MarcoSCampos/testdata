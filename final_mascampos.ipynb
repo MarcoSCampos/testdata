{
 "cells": [
  {
   "cell_type": "code",
   "execution_count": 133,
   "metadata": {
    "collapsed": true
   },
   "outputs": [],
   "source": [
    "# import modules\n",
    "import ipywidgets as widgets\n",
    "from IPython.display import display\n",
    "from __future__ import print_function\n",
    "from ipywidgets import interact, interactive, fixed, interact_manual\n",
    "from ipyleaflet import (Map, Marker)\n",
    "import pandas as pd\n",
    "import statsmodels.formula.api as smf\n",
    "from sklearn.ensemble import RandomForestRegressor\n",
    "import numpy as np\n",
    "import pylab as pl\n",
    "import operator"
   ]
  },
  {
   "cell_type": "code",
   "execution_count": 134,
   "metadata": {
    "collapsed": true
   },
   "outputs": [],
   "source": [
    "# load data base\n",
    "poa_db = pd.read_csv('https://raw.githubusercontent.com/MarcoSCampos/testdata/master/poa_database.csv')\n",
    "poa_nbh = pd.read_csv('https://raw.githubusercontent.com/MarcoSCampos/testdata/master/poa_nbh.csv')"
   ]
  },
  {
   "cell_type": "code",
   "execution_count": 135,
   "metadata": {},
   "outputs": [],
   "source": [
    "#tiding the data\n",
    "poa_db.rename(columns={'Bairro':'nbh','Area':'area', 'Valor':'value', 'Dormitorios':'rooms', 'Vagas':'parking'}, inplace=True)\n",
    "poa_nbh.rename(columns={'bairro':'nbh'}, inplace=True)\n",
    "\n",
    "#LabelEncoder\n",
    "poa_nbh.insert(0, 'nbh_id', range(0, len(poa_nbh)))\n",
    "\n",
    "# Merge with right join\n",
    "poa_db2 = pd.merge(poa_nbh, poa_db, on='nbh', how='right')\n",
    "poa_db2.head()\n",
    "poa_db2['nbh2']=pd.Series(poa_db2.nbh, index=poa_db2.index).str.replace('_',' ')\n",
    "poa_nbh['nbh2']=pd.Series(poa_nbh.nbh, index=poa_nbh.index).str.replace('_',' ')\n",
    "\n",
    "# Generate a dict and sort\n",
    "mydict=dict(zip(poa_nbh.nbh2,poa_nbh.nbh_id))\n",
    "mydict=sorted(mydict.items(),key=operator.itemgetter(1))\n",
    "#print (mydict)"
   ]
  },
  {
   "cell_type": "code",
   "execution_count": 136,
   "metadata": {},
   "outputs": [],
   "source": [
    "w1 = widgets.IntSlider(description='rooms', min=1, max=4,step=1, value=2)\n",
    "w2 = widgets.IntSlider(description='parking', min=0, max=2,step=1, value=1)\n",
    "w3 = widgets.IntSlider(description='area',min=10, max=200,step=1, value=80)                       \n",
    "w4=widgets.RadioButtons(description='Prediction:', options=['linear regression','random forest'], value='linear regression', disabled=False)\n",
    "w5 = widgets.Dropdown(options=mydict,value=12,description='Neighborhood:',)\n",
    "a=[-30.028591  ,-51.228060]\n",
    "w6=Map(center=a, zoom=15)"
   ]
  },
  {
   "cell_type": "code",
   "execution_count": null,
   "metadata": {},
   "outputs": [],
   "source": [
    "# modeling\n",
    "a=False\n",
    "if a:\n",
    " #Linear modeling\n",
    " #lm=smf.ols(formula='value ~ area + rooms + parking + nbh', data=poa_db).fit()\n",
    " lm=smf.ols(formula='value ~ area + rooms + parking + nbh', data=poa_db2).fit()\n",
    " new={'area':[50],'rooms':[2],'parking':[1], 'nbh':['Centro']}\n",
    " z=lm.predict(new)[0]\n",
    " print z\n",
    "else:\n",
    " new1=pd.DataFrame({'area':[50],'rooms':[2],'parking':[1], 'nbh_id':[12]})\n",
    " cols = ['area', 'rooms', 'parking','nbh_id']\n",
    " rf = RandomForestRegressor(n_estimators=150)\n",
    " rf.fit(poa_db2[cols], poa_db2.value)\n",
    " z=rf.predict(new1[cols])[0]\n",
    " print z    "
   ]
  },
  {
   "cell_type": "code",
   "execution_count": 139,
   "metadata": {},
   "outputs": [
    {
     "data": {
      "application/vnd.jupyter.widget-view+json": {
       "model_id": "6c6825e38c594fe98c6c0a8054de600f"
      }
     },
     "metadata": {},
     "output_type": "display_data"
    },
    {
     "data": {
      "application/vnd.jupyter.widget-view+json": {
       "model_id": "16f7e1a08a5a46978d814164dcef35f2"
      }
     },
     "metadata": {},
     "output_type": "display_data"
    },
    {
     "data": {
      "application/vnd.jupyter.widget-view+json": {
       "model_id": "ca56f3b311504ae398c79c4ed177f0da"
      }
     },
     "metadata": {},
     "output_type": "display_data"
    },
    {
     "data": {
      "application/vnd.jupyter.widget-view+json": {
       "model_id": "302256292b144495ad4a4a817d1857d1"
      }
     },
     "metadata": {},
     "output_type": "display_data"
    },
    {
     "data": {
      "application/vnd.jupyter.widget-view+json": {
       "model_id": "55995de4d26e46798476f138ac7a2056"
      }
     },
     "metadata": {},
     "output_type": "display_data"
    },
    {
     "data": {
      "application/vnd.jupyter.widget-view+json": {
       "model_id": "73c5871a53a44cdeb69f970ed132a27b"
      }
     },
     "metadata": {},
     "output_type": "display_data"
    }
   ],
   "source": [
    "def place(c,d):\n",
    "    e=d[['lat','lng']][c:c+1]\n",
    "    e=list(e.values.flatten())\n",
    "    return (e)\n",
    "\n",
    "#a=place(w5.value,poa_nbh)\n",
    "\n",
    "w6=Map(center=place(w5.value,poa_nbh), zoom=15)\n",
    "mark=Marker(location=w6.center,title='Property value \\n R$ 200000.00')\n",
    "mark.visible\n",
    "w6 += mark\n",
    "\n",
    "#w6.interact(zoom=(5,15,15))\n",
    "\n",
    "\n",
    "display (w1,w2,w3,w4,w5,w6)\n"
   ]
  },
  {
   "cell_type": "code",
   "execution_count": null,
   "metadata": {
    "collapsed": true
   },
   "outputs": [],
   "source": []
  }
 ],
 "metadata": {
  "kernelspec": {
   "display_name": "Python [conda root]",
   "language": "python",
   "name": "conda-root-py"
  },
  "language_info": {
   "codemirror_mode": {
    "name": "ipython",
    "version": 2
   },
   "file_extension": ".py",
   "mimetype": "text/x-python",
   "name": "python",
   "nbconvert_exporter": "python",
   "pygments_lexer": "ipython2",
   "version": "2.7.12"
  }
 },
 "nbformat": 4,
 "nbformat_minor": 1
}
